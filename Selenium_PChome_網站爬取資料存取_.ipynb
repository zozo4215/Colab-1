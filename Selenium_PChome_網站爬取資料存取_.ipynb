{
  "nbformat": 4,
  "nbformat_minor": 0,
  "metadata": {
    "colab": {
      "name": "Selenium PChome 網站爬取資料存取 .ipynb",
      "provenance": [],
      "collapsed_sections": [],
      "include_colab_link": true
    },
    "kernelspec": {
      "name": "python3",
      "display_name": "Python 3"
    },
    "language_info": {
      "name": "python"
    }
  },
  "cells": [
    {
      "cell_type": "markdown",
      "metadata": {
        "id": "view-in-github",
        "colab_type": "text"
      },
      "source": [
        "<a href=\"https://colab.research.google.com/github/zozo4215/Colab-1/blob/main/Selenium_PChome_%E7%B6%B2%E7%AB%99%E7%88%AC%E5%8F%96%E8%B3%87%E6%96%99%E5%AD%98%E5%8F%96_.ipynb\" target=\"_parent\"><img src=\"https://colab.research.google.com/assets/colab-badge.svg\" alt=\"Open In Colab\"/></a>"
      ]
    },
    {
      "cell_type": "code",
      "source": [
        "from google.colab import drive\n",
        "drive.mount('/content/drive')"
      ],
      "metadata": {
        "id": "ZMvIw0rKQmLW",
        "colab": {
          "base_uri": "https://localhost:8080/"
        },
        "outputId": "9f67c821-b60b-4f27-bc70-96613e284f78"
      },
      "execution_count": null,
      "outputs": [
        {
          "output_type": "stream",
          "name": "stdout",
          "text": [
            "Mounted at /content/drive\n"
          ]
        }
      ]
    },
    {
      "cell_type": "code",
      "source": [
        "import os\n",
        "os.chdir('/content/drive/MyDrive/Colab Notebooks/selenium')\n",
        "os.getcwd()"
      ],
      "metadata": {
        "id": "oZBDoq0pQgdM",
        "colab": {
          "base_uri": "https://localhost:8080/",
          "height": 36
        },
        "outputId": "3e197840-2b74-43dd-877f-db8cec02f91d"
      },
      "execution_count": null,
      "outputs": [
        {
          "output_type": "execute_result",
          "data": {
            "text/plain": [
              "'/content/drive/MyDrive/Colab Notebooks/selenium'"
            ],
            "application/vnd.google.colaboratory.intrinsic+json": {
              "type": "string"
            }
          },
          "metadata": {},
          "execution_count": 2
        }
      ]
    },
    {
      "cell_type": "code",
      "source": [
        "!pip install selenium\n",
        "!apt-get update \n",
        "!apt install chromium-chromedriver\n",
        "#!cp /usr/lib/chromium-browser/chromedriver /usr/bin"
      ],
      "metadata": {
        "id": "TAoNAUYyk7FZ"
      },
      "execution_count": null,
      "outputs": []
    },
    {
      "cell_type": "code",
      "source": [
        "from selenium import webdriver\n",
        "from selenium.webdriver.support.ui import WebDriverWait\n",
        "from selenium.webdriver.common.by import By\n",
        "from selenium.webdriver.support import expected_conditions as EC\n",
        "from selenium.webdriver.common.action_chains import ActionChains\n",
        "from bs4 import BeautifulSoup\n",
        "import pandas as pd\n",
        "\n",
        "chrome_options = webdriver.ChromeOptions()\n",
        "chrome_options.add_argument('--headless')\n",
        "chrome_options.add_argument('--no-sandbox')\n",
        "chrome_options.add_argument('--disable-dev-shm-usage')\n",
        "# 預設語言\n",
        "chrome_options.add_argument(\"--lang=zh-TW.UTF-8\")\n",
        "driver = webdriver.Chrome('chromedriver', options=chrome_options)\n",
        "driver.implicitly_wait(10)\n",
        "driver.close() "
      ],
      "metadata": {
        "id": "j9yZ8es8uaQ5"
      },
      "execution_count": null,
      "outputs": []
    },
    {
      "cell_type": "markdown",
      "source": [
        "# 抓取資料"
      ],
      "metadata": {
        "id": "PVqm6Jj01QVW"
      }
    },
    {
      "cell_type": "code",
      "source": [
        "#寫成函式,輸入要爬的頁數即可\n",
        "def search ( N=1 ):\n",
        "  contens=[]\n",
        "  count = 0\n",
        "  for i in range( N ):\n",
        "    driver = webdriver.Chrome('chromedriver', options=chrome_options)\n",
        "    driver.get(\"https://24h.pchome.com.tw/cutprice/#!region=&p=\"+ str(i+1))\n",
        "    #print(driver.page_source)\n",
        "\n",
        "    #分析網頁\n",
        "    soup = BeautifulSoup(driver.page_source)\n",
        "        \n",
        "    #列表內所有資訊\n",
        "    all = soup.find_all('dd', {'class': 'CutpriceItem'})\n",
        "    \n",
        "    #解析剩餘內容信息\n",
        "    for row in all:\n",
        "      #商品名稱\n",
        "      title_list = row.find('h5').text\n",
        "      #商品網址 /prod/DXAG97-A900A6NY5\n",
        "      href_link_list = 'https://24h.pchome.com.tw'+row.find('a')['href']\n",
        "      #商品價格 $108(已降$10) \n",
        "      price_list = row.find('span').text.split('(')[0]\n",
        "      #已降金額 $108(已降$10) \n",
        "      price_domw_list = row.find('span').text.split('(')[1].replace(')','').replace('已降$','')\n",
        "      count+=1\n",
        "\n",
        "      c = [ count ,title_list, href_link_list, price_list, price_domw_list]\n",
        "      #print(c)\n",
        "      contens.append(c)\n",
        "      driver.quit()\n",
        "  #設定欄位名稱\n",
        "  colname = ['商品編號', '商品名稱', '商品網址', '商品價格', '已降金額']\n",
        "  df = pd.DataFrame(contens, columns = colname)\n",
        "  df.index=df.index+1\n",
        "  df.to_csv( 'PChome - 最新降價專區.csv', index=False, encoding='utf-8-sig')\n",
        "  #return df"
      ],
      "metadata": {
        "id": "F_y-BKlMoptO"
      },
      "execution_count": null,
      "outputs": []
    },
    {
      "cell_type": "code",
      "source": [
        "search(10)"
      ],
      "metadata": {
        "id": "zfmsKifT2Clu"
      },
      "execution_count": null,
      "outputs": []
    },
    {
      "cell_type": "markdown",
      "source": [
        "# 讀取檔案\n"
      ],
      "metadata": {
        "id": "1NVfrUqWAVRl"
      }
    },
    {
      "cell_type": "code",
      "source": [
        "df = pd.read_csv('PChome - 最新降價專區.csv',index_col=\"商品編號\")"
      ],
      "metadata": {
        "id": "SIRMWVU7AWjM"
      },
      "execution_count": null,
      "outputs": []
    },
    {
      "cell_type": "code",
      "source": [
        "df"
      ],
      "metadata": {
        "colab": {
          "base_uri": "https://localhost:8080/",
          "height": 455
        },
        "id": "cH71L3cyBGAx",
        "outputId": "affd5436-f591-4073-d3b9-9419b525a6ed"
      },
      "execution_count": null,
      "outputs": [
        {
          "output_type": "execute_result",
          "data": {
            "text/plain": [
              "                                                 商品名稱  \\\n",
              "商品編號                                                    \n",
              "1                                 特選薄口調味液  1000毫升   \n",
              "2                           『HANDLE TIME』復古仿木紋厚框功靜音掛鐘   \n",
              "3                                   日本寶製菓 蘋果奶油愛心餅120g   \n",
              "4                      [斐孟spa]一次性防疫塑膠手套 10包優惠組(1000只)   \n",
              "5                                  日本全農 北海道大正金時菜豆200g   \n",
              "...                                               ...   \n",
              "496   oillio歐洲貴族 MIT製造 抑菌除臭 3倍毛圈 避震抗壓 吸汗耐磨 加厚毛巾隱形襪 黑色   \n",
              "497                         【E.dot】泡腳專用折疊滾輪按摩足浴盆-二色可選   \n",
              "498                      外銷日本熱賣款2021薄款冰絲涼爽不掉跟素面隱形襪-灰色   \n",
              "499                           歐美熱銷NO.1專利科技 蜂窩前掌模式墊 鞋墊   \n",
              "500                              GIFT-金粉色-韓版修身大擺短袖連衣裙   \n",
              "\n",
              "                                                 商品網址  商品價格  已降金額  \n",
              "商品編號                                                               \n",
              "1     https://24h.pchome.com.tw/prod/DBAK8G-A900AHTG0   $95    10  \n",
              "2     https://24h.pchome.com.tw/prod/DIACA6-A9007OZIR  $539    30  \n",
              "3     https://24h.pchome.com.tw/prod/DBAEEC-A900F26F2  $109    10  \n",
              "4     https://24h.pchome.com.tw/prod/DEAC5I-A900BE960  $570    30  \n",
              "5     https://24h.pchome.com.tw/prod/DBAK5R-A900F27CZ  $119    10  \n",
              "...                                               ...   ...   ...  \n",
              "496   https://24h.pchome.com.tw/prod/DICG06-A900B3O7Z  $159    10  \n",
              "497   https://24h.pchome.com.tw/prod/DECB0V-A900BLI3H  $457    10  \n",
              "498   https://24h.pchome.com.tw/prod/DICG2L-A900EAATX  $213    10  \n",
              "499   https://24h.pchome.com.tw/prod/DICN0S-A900AL8ER  $164    10  \n",
              "500   https://24h.pchome.com.tw/prod/DICU6S-A900ADF53  $783    10  \n",
              "\n",
              "[500 rows x 4 columns]"
            ],
            "text/html": [
              "\n",
              "  <div id=\"df-a19525ca-3751-4ad0-a812-1980bc83a6fa\">\n",
              "    <div class=\"colab-df-container\">\n",
              "      <div>\n",
              "<style scoped>\n",
              "    .dataframe tbody tr th:only-of-type {\n",
              "        vertical-align: middle;\n",
              "    }\n",
              "\n",
              "    .dataframe tbody tr th {\n",
              "        vertical-align: top;\n",
              "    }\n",
              "\n",
              "    .dataframe thead th {\n",
              "        text-align: right;\n",
              "    }\n",
              "</style>\n",
              "<table border=\"1\" class=\"dataframe\">\n",
              "  <thead>\n",
              "    <tr style=\"text-align: right;\">\n",
              "      <th></th>\n",
              "      <th>商品名稱</th>\n",
              "      <th>商品網址</th>\n",
              "      <th>商品價格</th>\n",
              "      <th>已降金額</th>\n",
              "    </tr>\n",
              "    <tr>\n",
              "      <th>商品編號</th>\n",
              "      <th></th>\n",
              "      <th></th>\n",
              "      <th></th>\n",
              "      <th></th>\n",
              "    </tr>\n",
              "  </thead>\n",
              "  <tbody>\n",
              "    <tr>\n",
              "      <th>1</th>\n",
              "      <td>特選薄口調味液  1000毫升</td>\n",
              "      <td>https://24h.pchome.com.tw/prod/DBAK8G-A900AHTG0</td>\n",
              "      <td>$95</td>\n",
              "      <td>10</td>\n",
              "    </tr>\n",
              "    <tr>\n",
              "      <th>2</th>\n",
              "      <td>『HANDLE TIME』復古仿木紋厚框功靜音掛鐘</td>\n",
              "      <td>https://24h.pchome.com.tw/prod/DIACA6-A9007OZIR</td>\n",
              "      <td>$539</td>\n",
              "      <td>30</td>\n",
              "    </tr>\n",
              "    <tr>\n",
              "      <th>3</th>\n",
              "      <td>日本寶製菓 蘋果奶油愛心餅120g</td>\n",
              "      <td>https://24h.pchome.com.tw/prod/DBAEEC-A900F26F2</td>\n",
              "      <td>$109</td>\n",
              "      <td>10</td>\n",
              "    </tr>\n",
              "    <tr>\n",
              "      <th>4</th>\n",
              "      <td>[斐孟spa]一次性防疫塑膠手套 10包優惠組(1000只)</td>\n",
              "      <td>https://24h.pchome.com.tw/prod/DEAC5I-A900BE960</td>\n",
              "      <td>$570</td>\n",
              "      <td>30</td>\n",
              "    </tr>\n",
              "    <tr>\n",
              "      <th>5</th>\n",
              "      <td>日本全農 北海道大正金時菜豆200g</td>\n",
              "      <td>https://24h.pchome.com.tw/prod/DBAK5R-A900F27CZ</td>\n",
              "      <td>$119</td>\n",
              "      <td>10</td>\n",
              "    </tr>\n",
              "    <tr>\n",
              "      <th>...</th>\n",
              "      <td>...</td>\n",
              "      <td>...</td>\n",
              "      <td>...</td>\n",
              "      <td>...</td>\n",
              "    </tr>\n",
              "    <tr>\n",
              "      <th>496</th>\n",
              "      <td>oillio歐洲貴族 MIT製造 抑菌除臭 3倍毛圈 避震抗壓 吸汗耐磨 加厚毛巾隱形襪 黑色</td>\n",
              "      <td>https://24h.pchome.com.tw/prod/DICG06-A900B3O7Z</td>\n",
              "      <td>$159</td>\n",
              "      <td>10</td>\n",
              "    </tr>\n",
              "    <tr>\n",
              "      <th>497</th>\n",
              "      <td>【E.dot】泡腳專用折疊滾輪按摩足浴盆-二色可選</td>\n",
              "      <td>https://24h.pchome.com.tw/prod/DECB0V-A900BLI3H</td>\n",
              "      <td>$457</td>\n",
              "      <td>10</td>\n",
              "    </tr>\n",
              "    <tr>\n",
              "      <th>498</th>\n",
              "      <td>外銷日本熱賣款2021薄款冰絲涼爽不掉跟素面隱形襪-灰色</td>\n",
              "      <td>https://24h.pchome.com.tw/prod/DICG2L-A900EAATX</td>\n",
              "      <td>$213</td>\n",
              "      <td>10</td>\n",
              "    </tr>\n",
              "    <tr>\n",
              "      <th>499</th>\n",
              "      <td>歐美熱銷NO.1專利科技 蜂窩前掌模式墊 鞋墊</td>\n",
              "      <td>https://24h.pchome.com.tw/prod/DICN0S-A900AL8ER</td>\n",
              "      <td>$164</td>\n",
              "      <td>10</td>\n",
              "    </tr>\n",
              "    <tr>\n",
              "      <th>500</th>\n",
              "      <td>GIFT-金粉色-韓版修身大擺短袖連衣裙</td>\n",
              "      <td>https://24h.pchome.com.tw/prod/DICU6S-A900ADF53</td>\n",
              "      <td>$783</td>\n",
              "      <td>10</td>\n",
              "    </tr>\n",
              "  </tbody>\n",
              "</table>\n",
              "<p>500 rows × 4 columns</p>\n",
              "</div>\n",
              "      <button class=\"colab-df-convert\" onclick=\"convertToInteractive('df-a19525ca-3751-4ad0-a812-1980bc83a6fa')\"\n",
              "              title=\"Convert this dataframe to an interactive table.\"\n",
              "              style=\"display:none;\">\n",
              "        \n",
              "  <svg xmlns=\"http://www.w3.org/2000/svg\" height=\"24px\"viewBox=\"0 0 24 24\"\n",
              "       width=\"24px\">\n",
              "    <path d=\"M0 0h24v24H0V0z\" fill=\"none\"/>\n",
              "    <path d=\"M18.56 5.44l.94 2.06.94-2.06 2.06-.94-2.06-.94-.94-2.06-.94 2.06-2.06.94zm-11 1L8.5 8.5l.94-2.06 2.06-.94-2.06-.94L8.5 2.5l-.94 2.06-2.06.94zm10 10l.94 2.06.94-2.06 2.06-.94-2.06-.94-.94-2.06-.94 2.06-2.06.94z\"/><path d=\"M17.41 7.96l-1.37-1.37c-.4-.4-.92-.59-1.43-.59-.52 0-1.04.2-1.43.59L10.3 9.45l-7.72 7.72c-.78.78-.78 2.05 0 2.83L4 21.41c.39.39.9.59 1.41.59.51 0 1.02-.2 1.41-.59l7.78-7.78 2.81-2.81c.8-.78.8-2.07 0-2.86zM5.41 20L4 18.59l7.72-7.72 1.47 1.35L5.41 20z\"/>\n",
              "  </svg>\n",
              "      </button>\n",
              "      \n",
              "  <style>\n",
              "    .colab-df-container {\n",
              "      display:flex;\n",
              "      flex-wrap:wrap;\n",
              "      gap: 12px;\n",
              "    }\n",
              "\n",
              "    .colab-df-convert {\n",
              "      background-color: #E8F0FE;\n",
              "      border: none;\n",
              "      border-radius: 50%;\n",
              "      cursor: pointer;\n",
              "      display: none;\n",
              "      fill: #1967D2;\n",
              "      height: 32px;\n",
              "      padding: 0 0 0 0;\n",
              "      width: 32px;\n",
              "    }\n",
              "\n",
              "    .colab-df-convert:hover {\n",
              "      background-color: #E2EBFA;\n",
              "      box-shadow: 0px 1px 2px rgba(60, 64, 67, 0.3), 0px 1px 3px 1px rgba(60, 64, 67, 0.15);\n",
              "      fill: #174EA6;\n",
              "    }\n",
              "\n",
              "    [theme=dark] .colab-df-convert {\n",
              "      background-color: #3B4455;\n",
              "      fill: #D2E3FC;\n",
              "    }\n",
              "\n",
              "    [theme=dark] .colab-df-convert:hover {\n",
              "      background-color: #434B5C;\n",
              "      box-shadow: 0px 1px 3px 1px rgba(0, 0, 0, 0.15);\n",
              "      filter: drop-shadow(0px 1px 2px rgba(0, 0, 0, 0.3));\n",
              "      fill: #FFFFFF;\n",
              "    }\n",
              "  </style>\n",
              "\n",
              "      <script>\n",
              "        const buttonEl =\n",
              "          document.querySelector('#df-a19525ca-3751-4ad0-a812-1980bc83a6fa button.colab-df-convert');\n",
              "        buttonEl.style.display =\n",
              "          google.colab.kernel.accessAllowed ? 'block' : 'none';\n",
              "\n",
              "        async function convertToInteractive(key) {\n",
              "          const element = document.querySelector('#df-a19525ca-3751-4ad0-a812-1980bc83a6fa');\n",
              "          const dataTable =\n",
              "            await google.colab.kernel.invokeFunction('convertToInteractive',\n",
              "                                                     [key], {});\n",
              "          if (!dataTable) return;\n",
              "\n",
              "          const docLinkHtml = 'Like what you see? Visit the ' +\n",
              "            '<a target=\"_blank\" href=https://colab.research.google.com/notebooks/data_table.ipynb>data table notebook</a>'\n",
              "            + ' to learn more about interactive tables.';\n",
              "          element.innerHTML = '';\n",
              "          dataTable['output_type'] = 'display_data';\n",
              "          await google.colab.output.renderOutput(dataTable, element);\n",
              "          const docLink = document.createElement('div');\n",
              "          docLink.innerHTML = docLinkHtml;\n",
              "          element.appendChild(docLink);\n",
              "        }\n",
              "      </script>\n",
              "    </div>\n",
              "  </div>\n",
              "  "
            ]
          },
          "metadata": {},
          "execution_count": 18
        }
      ]
    },
    {
      "cell_type": "markdown",
      "source": [
        "# 已降金額前10排名"
      ],
      "metadata": {
        "id": "ED3GAGwi33_P"
      }
    },
    {
      "cell_type": "code",
      "source": [
        "df.sort_values( by = '已降金額', ascending=False).head(10)"
      ],
      "metadata": {
        "colab": {
          "base_uri": "https://localhost:8080/",
          "height": 394
        },
        "id": "DdmcEl363fIe",
        "outputId": "da4c6b75-80b6-4515-d01b-75d9b568bcf3"
      },
      "execution_count": null,
      "outputs": [
        {
          "output_type": "execute_result",
          "data": {
            "text/plain": [
              "                                                   商品名稱  \\\n",
              "商品編號                                                      \n",
              "25    《Zwiesel Glas》德國蔡司Alloro 香檳杯366ml 尊爵手工系列 2入禮盒(...   \n",
              "26    《Zwiesel Glas》德國蔡司Diva 紅酒杯613ml 奢華款6入原裝盒 (德國總代...   \n",
              "27    《Zwiesel Glas》德國蔡司Diva 香檳杯219ml 奢華款6入原裝盒 (德國總代...   \n",
              "28    《Zwiesel Glas》德國蔡司Diva 波爾多紅酒杯591ml 奢華款6入原裝盒 (德...   \n",
              "29    《Zwiesel Glas》德國蔡司Fortissimo 波爾多紅酒杯650ml 生活款6入...   \n",
              "30    《Zwiesel Glas》德國蔡司Fortissimo 白酒杯420ml 生活款6入原裝盒...   \n",
              "31    《Zwiesel Glas》德國蔡司Fortissimo 勃根地紅酒杯740ml 生活款入原...   \n",
              "32    《Zwiesel Glas》德國蔡司VINA 勃根地紅酒杯750ml 奢華款6入原裝盒 (德...   \n",
              "33    終極多功十合一 PD 100W 4K HDMI 雙Type-C 10 Gbps 磁吸集線器 鈦極灰   \n",
              "34     索尼 SONY VPL-DX241 投影機 3300流明 XGA 送原廠精緻攜行包 原廠三年保固   \n",
              "\n",
              "                                                 商品網址    商品價格  已降金額  \n",
              "商品編號                                                                 \n",
              "25    https://24h.pchome.com.tw/prod/DEBWK0-A900B7OIE   $6600  1617  \n",
              "26    https://24h.pchome.com.tw/prod/DEBWK0-A900B7OO7   $3999  1507  \n",
              "27    https://24h.pchome.com.tw/prod/DEBWK0-A900B7OVI   $3999  1507  \n",
              "28    https://24h.pchome.com.tw/prod/DEBWK0-A900B7OVT   $3999  1507  \n",
              "29    https://24h.pchome.com.tw/prod/DEBWK0-A900B7OPG   $2899  1383  \n",
              "30    https://24h.pchome.com.tw/prod/DEBWK0-A900B7OP3   $3199  1083  \n",
              "31    https://24h.pchome.com.tw/prod/DEBWK0-A900B7OUI   $3199  1083  \n",
              "32    https://24h.pchome.com.tw/prod/DEBWK0-A900B7OV9   $3999  1039  \n",
              "33    https://24h.pchome.com.tw/prod/DYAF10-A900C4QRB   $1999   998  \n",
              "34    https://24h.pchome.com.tw/prod/DPAE5I-A9008J75L  $19064   836  "
            ],
            "text/html": [
              "\n",
              "  <div id=\"df-21a84c14-8c30-4ee4-924e-4010a50ae5de\">\n",
              "    <div class=\"colab-df-container\">\n",
              "      <div>\n",
              "<style scoped>\n",
              "    .dataframe tbody tr th:only-of-type {\n",
              "        vertical-align: middle;\n",
              "    }\n",
              "\n",
              "    .dataframe tbody tr th {\n",
              "        vertical-align: top;\n",
              "    }\n",
              "\n",
              "    .dataframe thead th {\n",
              "        text-align: right;\n",
              "    }\n",
              "</style>\n",
              "<table border=\"1\" class=\"dataframe\">\n",
              "  <thead>\n",
              "    <tr style=\"text-align: right;\">\n",
              "      <th></th>\n",
              "      <th>商品名稱</th>\n",
              "      <th>商品網址</th>\n",
              "      <th>商品價格</th>\n",
              "      <th>已降金額</th>\n",
              "    </tr>\n",
              "    <tr>\n",
              "      <th>商品編號</th>\n",
              "      <th></th>\n",
              "      <th></th>\n",
              "      <th></th>\n",
              "      <th></th>\n",
              "    </tr>\n",
              "  </thead>\n",
              "  <tbody>\n",
              "    <tr>\n",
              "      <th>25</th>\n",
              "      <td>《Zwiesel Glas》德國蔡司Alloro 香檳杯366ml 尊爵手工系列 2入禮盒(...</td>\n",
              "      <td>https://24h.pchome.com.tw/prod/DEBWK0-A900B7OIE</td>\n",
              "      <td>$6600</td>\n",
              "      <td>1617</td>\n",
              "    </tr>\n",
              "    <tr>\n",
              "      <th>26</th>\n",
              "      <td>《Zwiesel Glas》德國蔡司Diva 紅酒杯613ml 奢華款6入原裝盒 (德國總代...</td>\n",
              "      <td>https://24h.pchome.com.tw/prod/DEBWK0-A900B7OO7</td>\n",
              "      <td>$3999</td>\n",
              "      <td>1507</td>\n",
              "    </tr>\n",
              "    <tr>\n",
              "      <th>27</th>\n",
              "      <td>《Zwiesel Glas》德國蔡司Diva 香檳杯219ml 奢華款6入原裝盒 (德國總代...</td>\n",
              "      <td>https://24h.pchome.com.tw/prod/DEBWK0-A900B7OVI</td>\n",
              "      <td>$3999</td>\n",
              "      <td>1507</td>\n",
              "    </tr>\n",
              "    <tr>\n",
              "      <th>28</th>\n",
              "      <td>《Zwiesel Glas》德國蔡司Diva 波爾多紅酒杯591ml 奢華款6入原裝盒 (德...</td>\n",
              "      <td>https://24h.pchome.com.tw/prod/DEBWK0-A900B7OVT</td>\n",
              "      <td>$3999</td>\n",
              "      <td>1507</td>\n",
              "    </tr>\n",
              "    <tr>\n",
              "      <th>29</th>\n",
              "      <td>《Zwiesel Glas》德國蔡司Fortissimo 波爾多紅酒杯650ml 生活款6入...</td>\n",
              "      <td>https://24h.pchome.com.tw/prod/DEBWK0-A900B7OPG</td>\n",
              "      <td>$2899</td>\n",
              "      <td>1383</td>\n",
              "    </tr>\n",
              "    <tr>\n",
              "      <th>30</th>\n",
              "      <td>《Zwiesel Glas》德國蔡司Fortissimo 白酒杯420ml 生活款6入原裝盒...</td>\n",
              "      <td>https://24h.pchome.com.tw/prod/DEBWK0-A900B7OP3</td>\n",
              "      <td>$3199</td>\n",
              "      <td>1083</td>\n",
              "    </tr>\n",
              "    <tr>\n",
              "      <th>31</th>\n",
              "      <td>《Zwiesel Glas》德國蔡司Fortissimo 勃根地紅酒杯740ml 生活款入原...</td>\n",
              "      <td>https://24h.pchome.com.tw/prod/DEBWK0-A900B7OUI</td>\n",
              "      <td>$3199</td>\n",
              "      <td>1083</td>\n",
              "    </tr>\n",
              "    <tr>\n",
              "      <th>32</th>\n",
              "      <td>《Zwiesel Glas》德國蔡司VINA 勃根地紅酒杯750ml 奢華款6入原裝盒 (德...</td>\n",
              "      <td>https://24h.pchome.com.tw/prod/DEBWK0-A900B7OV9</td>\n",
              "      <td>$3999</td>\n",
              "      <td>1039</td>\n",
              "    </tr>\n",
              "    <tr>\n",
              "      <th>33</th>\n",
              "      <td>終極多功十合一 PD 100W 4K HDMI 雙Type-C 10 Gbps 磁吸集線器 鈦極灰</td>\n",
              "      <td>https://24h.pchome.com.tw/prod/DYAF10-A900C4QRB</td>\n",
              "      <td>$1999</td>\n",
              "      <td>998</td>\n",
              "    </tr>\n",
              "    <tr>\n",
              "      <th>34</th>\n",
              "      <td>索尼 SONY VPL-DX241 投影機 3300流明 XGA 送原廠精緻攜行包 原廠三年保固</td>\n",
              "      <td>https://24h.pchome.com.tw/prod/DPAE5I-A9008J75L</td>\n",
              "      <td>$19064</td>\n",
              "      <td>836</td>\n",
              "    </tr>\n",
              "  </tbody>\n",
              "</table>\n",
              "</div>\n",
              "      <button class=\"colab-df-convert\" onclick=\"convertToInteractive('df-21a84c14-8c30-4ee4-924e-4010a50ae5de')\"\n",
              "              title=\"Convert this dataframe to an interactive table.\"\n",
              "              style=\"display:none;\">\n",
              "        \n",
              "  <svg xmlns=\"http://www.w3.org/2000/svg\" height=\"24px\"viewBox=\"0 0 24 24\"\n",
              "       width=\"24px\">\n",
              "    <path d=\"M0 0h24v24H0V0z\" fill=\"none\"/>\n",
              "    <path d=\"M18.56 5.44l.94 2.06.94-2.06 2.06-.94-2.06-.94-.94-2.06-.94 2.06-2.06.94zm-11 1L8.5 8.5l.94-2.06 2.06-.94-2.06-.94L8.5 2.5l-.94 2.06-2.06.94zm10 10l.94 2.06.94-2.06 2.06-.94-2.06-.94-.94-2.06-.94 2.06-2.06.94z\"/><path d=\"M17.41 7.96l-1.37-1.37c-.4-.4-.92-.59-1.43-.59-.52 0-1.04.2-1.43.59L10.3 9.45l-7.72 7.72c-.78.78-.78 2.05 0 2.83L4 21.41c.39.39.9.59 1.41.59.51 0 1.02-.2 1.41-.59l7.78-7.78 2.81-2.81c.8-.78.8-2.07 0-2.86zM5.41 20L4 18.59l7.72-7.72 1.47 1.35L5.41 20z\"/>\n",
              "  </svg>\n",
              "      </button>\n",
              "      \n",
              "  <style>\n",
              "    .colab-df-container {\n",
              "      display:flex;\n",
              "      flex-wrap:wrap;\n",
              "      gap: 12px;\n",
              "    }\n",
              "\n",
              "    .colab-df-convert {\n",
              "      background-color: #E8F0FE;\n",
              "      border: none;\n",
              "      border-radius: 50%;\n",
              "      cursor: pointer;\n",
              "      display: none;\n",
              "      fill: #1967D2;\n",
              "      height: 32px;\n",
              "      padding: 0 0 0 0;\n",
              "      width: 32px;\n",
              "    }\n",
              "\n",
              "    .colab-df-convert:hover {\n",
              "      background-color: #E2EBFA;\n",
              "      box-shadow: 0px 1px 2px rgba(60, 64, 67, 0.3), 0px 1px 3px 1px rgba(60, 64, 67, 0.15);\n",
              "      fill: #174EA6;\n",
              "    }\n",
              "\n",
              "    [theme=dark] .colab-df-convert {\n",
              "      background-color: #3B4455;\n",
              "      fill: #D2E3FC;\n",
              "    }\n",
              "\n",
              "    [theme=dark] .colab-df-convert:hover {\n",
              "      background-color: #434B5C;\n",
              "      box-shadow: 0px 1px 3px 1px rgba(0, 0, 0, 0.15);\n",
              "      filter: drop-shadow(0px 1px 2px rgba(0, 0, 0, 0.3));\n",
              "      fill: #FFFFFF;\n",
              "    }\n",
              "  </style>\n",
              "\n",
              "      <script>\n",
              "        const buttonEl =\n",
              "          document.querySelector('#df-21a84c14-8c30-4ee4-924e-4010a50ae5de button.colab-df-convert');\n",
              "        buttonEl.style.display =\n",
              "          google.colab.kernel.accessAllowed ? 'block' : 'none';\n",
              "\n",
              "        async function convertToInteractive(key) {\n",
              "          const element = document.querySelector('#df-21a84c14-8c30-4ee4-924e-4010a50ae5de');\n",
              "          const dataTable =\n",
              "            await google.colab.kernel.invokeFunction('convertToInteractive',\n",
              "                                                     [key], {});\n",
              "          if (!dataTable) return;\n",
              "\n",
              "          const docLinkHtml = 'Like what you see? Visit the ' +\n",
              "            '<a target=\"_blank\" href=https://colab.research.google.com/notebooks/data_table.ipynb>data table notebook</a>'\n",
              "            + ' to learn more about interactive tables.';\n",
              "          element.innerHTML = '';\n",
              "          dataTable['output_type'] = 'display_data';\n",
              "          await google.colab.output.renderOutput(dataTable, element);\n",
              "          const docLink = document.createElement('div');\n",
              "          docLink.innerHTML = docLinkHtml;\n",
              "          element.appendChild(docLink);\n",
              "        }\n",
              "      </script>\n",
              "    </div>\n",
              "  </div>\n",
              "  "
            ]
          },
          "metadata": {},
          "execution_count": 19
        }
      ]
    },
    {
      "cell_type": "markdown",
      "source": [
        "# 用商品編號去MOMO搜尋"
      ],
      "metadata": {
        "id": "1PtiTZYba74Q"
      }
    },
    {
      "cell_type": "markdown",
      "source": [
        "https://www.momoshop.com.tw/main/Main.jsp"
      ],
      "metadata": {
        "id": "-ALyJIHKa-gE"
      }
    },
    {
      "cell_type": "code",
      "source": [
        "while True:\n",
        "    number = input('輸入想搜尋的編號,輸入stop即停止: ')\n",
        "    if number == 'stop' :\n",
        "      break\n",
        "\n",
        "    elif int(number) in df.index :\n",
        "      District = df.loc[int(number)]['商品名稱']#把商品名稱抓出來\n",
        "      print(District,df.loc[int(number)]['商品價格'])#印出產品名稱跟價格\n",
        "      driver = webdriver.Chrome('chromedriver', options=chrome_options)\n",
        "      driver.get('https://www.momoshop.com.tw/main/Main.jsp')#MOMO購物網\n",
        "      driver.find_element(By.ID, 'keyword').send_keys(District) #輸入搜尋文字\n",
        "      sleep(2)\n",
        "      # //*[@id=\"search\"]/button\n",
        "      driver.find_element(By.XPATH,'//*[@id=\"topSchFrm\"]/p/button').click()  #按 搜尋 鈕\n",
        "      #print(driver.page_source)\n",
        "      soup = BeautifulSoup(driver.page_source)\n",
        "      if soup.find('p', {'class': 'money'}): #找到價格的標籤\n",
        "        print( '此商品在momo的價格是:' ,soup.find('p', {'class': 'money'}).text)\n",
        "      else:\n",
        "        print('momo未販賣')\n",
        "      \n",
        "    elif int(number) not in df.index :\n",
        "      print('超出範圍,請重新輸入 ')\n",
        "      continue\n",
        "\n",
        "print('End!')"
      ],
      "metadata": {
        "colab": {
          "base_uri": "https://localhost:8080/"
        },
        "id": "UWSCvrnk4VJT",
        "outputId": "149cbf98-b948-4c9d-9775-613466808c29"
      },
      "execution_count": null,
      "outputs": [
        {
          "output_type": "stream",
          "name": "stdout",
          "text": [
            "輸入想搜尋的編號,輸入stop即停止: 250\n",
            "【C.D.P 愛在普羅旺斯】馬賽美膚 去角質液態皂1000mL $1284\n",
            "此商品在momo的價格是: 可訂購時通知我$741(售價已折)\n",
            "輸入想搜尋的編號,輸入stop即停止: 0\n",
            "超出範圍,請重新輸入 \n",
            "輸入想搜尋的編號,輸入stop即停止: 10\n",
            "10公尺彩色燈帶 $1575\n",
            "此商品在momo的價格是: $1,268(售價已折)\n",
            "輸入想搜尋的編號,輸入stop即停止: 119\n",
            "Samsung Galaxy S22 Ultra 原廠透視感應皮套 【 白 】 $1526\n",
            "此商品在momo的價格是: $1,032(售價已折)\n",
            "輸入想搜尋的編號,輸入stop即停止: 85\n",
            "AutoMaxx★XM-500T 12V-500W-汽車電源轉換器 $2082\n",
            "此商品在momo的價格是: $1,766\n",
            "輸入想搜尋的編號,輸入stop即停止: 158\n",
            "【秘密衣櫥】棒球鋪棉外套 $392\n",
            "此商品在momo的價格是: $2,340\n",
            "輸入想搜尋的編號,輸入stop即停止: 99\n",
            "XD-Design Clik 按壓式360度防漏隨行杯 $199\n",
            "此商品在momo的價格是: $393(售價已折)\n",
            "輸入想搜尋的編號,輸入stop即停止: 60\n",
            "《HYPASS海帕斯》2020旗艦款空氣瓶子-智慧靜電集塵免耗材車用空氣清淨機 $4060\n",
            "此商品在momo的價格是: $3,999(售價已折)\n",
            "輸入想搜尋的編號,輸入stop即停止: stop\n",
            "End!\n"
          ]
        }
      ]
    }
  ]
}